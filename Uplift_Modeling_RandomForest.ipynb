{
 "cells": [
  {
   "cell_type": "markdown",
   "id": "9a09d60a",
   "metadata": {},
   "source": [
    "# Uplift Modeling using Random Forest Classifier"
   ]
  },
  {
   "cell_type": "markdown",
   "id": "5a33f3ef-a295-477e-9b90-66ad12cf601c",
   "metadata": {},
   "source": [
    "This notebook demonstrates how to use Random Forest Classifier to predict the uplift score of customers. The uplift score is the difference between the probability of a customer making a purchase when treated and the probability of a customer making a purchase when not treated. The uplift score is used to identify customers who are most likely to respond positively to a treatment."
   ]
  },
  {
   "cell_type": "markdown",
   "id": "a374ff36",
   "metadata": {},
   "source": [
    "## Importing Required Libraries"
   ]
  },
  {
   "cell_type": "code",
   "execution_count": 1,
   "id": "94b26a03",
   "metadata": {},
   "outputs": [],
   "source": [
    "import pandas as pd\n",
    "from sklearn.model_selection import train_test_split\n",
    "from sklearn.ensemble import RandomForestClassifier"
   ]
  },
  {
   "cell_type": "markdown",
   "id": "c1a88f9d",
   "metadata": {},
   "source": [
    "## Load Dataset"
   ]
  },
  {
   "cell_type": "code",
   "execution_count": 2,
   "id": "baacff95",
   "metadata": {},
   "outputs": [],
   "source": [
    "def load_data(filepath: str) -> pd.DataFrame:\n",
    "    \"\"\"Load the dataset from a CSV file and print its columns.\"\"\"\n",
    "    data = pd.read_csv(filepath)\n",
    "    print(\"Columns:\", data.columns.tolist())\n",
    "    return data"
   ]
  },
  {
   "cell_type": "markdown",
   "id": "1598866a",
   "metadata": {},
   "source": [
    "## Train the Random Forest Model"
   ]
  },
  {
   "cell_type": "code",
   "execution_count": 3,
   "id": "cc6fe091",
   "metadata": {},
   "outputs": [],
   "source": [
    "def train_model(data: pd.DataFrame, features: list, target: str):\n",
    "    \"\"\"\n",
    "    Trains a single RandomForestClassifier on the dataset.\n",
    "\n",
    "    Parameters:\n",
    "        data (pd.DataFrame): The complete dataset.\n",
    "        features (list): The list of feature columns.\n",
    "        target (str): The target variable.\n",
    "\n",
    "    Returns:\n",
    "        Trained RandomForest model.\n",
    "    \"\"\"\n",
    "    X = data[features]\n",
    "    y = data[target]\n",
    "\n",
    "    # Split data into training and validation sets\n",
    "    X_train, X_valid, y_train, y_valid = train_test_split(X, y, test_size=0.35, random_state=21)\n",
    "\n",
    "    # Train a RandomForest classifier\n",
    "    model = RandomForestClassifier(n_estimators=120, random_state=21)\n",
    "    model.fit(X_train, y_train)\n",
    "\n",
    "    return model, X_valid"
   ]
  },
  {
   "cell_type": "markdown",
   "id": "a1680ff2",
   "metadata": {},
   "source": [
    "## Compute Uplift Scores"
   ]
  },
  {
   "cell_type": "code",
   "execution_count": 4,
   "id": "dca5fc39",
   "metadata": {},
   "outputs": [],
   "source": [
    "def compute_uplift(model, X_valid: pd.DataFrame) -> pd.DataFrame:\n",
    "    \"\"\"\n",
    "    Computes uplift scores using a single trained model by modifying the coupon variable.\n",
    "\n",
    "    Parameters:\n",
    "        model: Trained RandomForest model.\n",
    "        X_valid (pd.DataFrame): Validation dataset.\n",
    "\n",
    "    Returns:\n",
    "        pd.DataFrame: Uplift scores with predictions.\n",
    "    \"\"\"\n",
    "    uplift_df = X_valid.copy()\n",
    "\n",
    "    # Simulate treatment group (coupon = 1)\n",
    "    uplift_df[\"coupon\"] = 1\n",
    "    pred_treatment = model.predict_proba(uplift_df)[:, 1]\n",
    "\n",
    "    # Simulate control group (coupon = 0)\n",
    "    uplift_df[\"coupon\"] = 0\n",
    "    pred_control = model.predict_proba(uplift_df)[:, 1]\n",
    "\n",
    "    # Compute uplift\n",
    "    uplift_result_df = pd.DataFrame({\n",
    "        \"probYesCoupon\": pred_treatment,\n",
    "        \"probNoCoupon\": pred_control,\n",
    "        \"uplift\": pred_treatment - pred_control,\n",
    "    }, index=X_valid.index)\n",
    "\n",
    "    return uplift_result_df"
   ]
  },
  {
   "cell_type": "markdown",
   "id": "eb1d56af",
   "metadata": {},
   "source": [
    "## Retrieve Top Uplift Records"
   ]
  },
  {
   "cell_type": "code",
   "execution_count": 5,
   "id": "b86185f3",
   "metadata": {},
   "outputs": [],
   "source": [
    "def get_top_uplift_records(data: pd.DataFrame, top_percent: float = 0.01) -> pd.DataFrame:\n",
    "    \"\"\"\n",
    "    Filter records with positive uplift and return the top specified percentage.\n",
    "\n",
    "    Parameters:\n",
    "        data (pd.DataFrame): The dataset with computed uplift.\n",
    "        top_percent (float): The top percentage to select (default is 1%).\n",
    "\n",
    "    Returns:\n",
    "        pd.DataFrame: The top records based on uplift.\n",
    "    \"\"\"\n",
    "    positive_uplift = data[data[\"uplift\"] > 0].copy()\n",
    "    positive_uplift.sort_values(by=\"uplift\", ascending=False, inplace=True)\n",
    "    n_top = max(1, int(top_percent * len(positive_uplift)))  # Ensure at least one record is returned\n",
    "    return positive_uplift.head(n_top)"
   ]
  },
  {
   "cell_type": "markdown",
   "id": "12e8e4f9",
   "metadata": {},
   "source": [
    "## Execute Uplift Modeling Pipeline"
   ]
  },
  {
   "cell_type": "code",
   "execution_count": 6,
   "id": "6d6afb19",
   "metadata": {},
   "outputs": [
    {
     "name": "stdout",
     "output_type": "stream",
     "text": [
      "Columns: ['conversion', 'coupon', 'X1', 'X2', 'X3', 'membership_level_0', 'membership_level_1', 'membership_level_2']\n",
      "Top 1% records based on positive uplift:\n",
      "      probYesCoupon  probNoCoupon    uplift\n",
      "6395       0.633333      0.125000  0.508333\n",
      "8923       0.591667      0.091667  0.500000\n",
      "1938       0.591667      0.100000  0.491667\n",
      "8221       0.625000      0.133333  0.491667\n",
      "9325       0.700000      0.208333  0.491667\n",
      "2996       0.633333      0.158333  0.475000\n",
      "9750       0.666667      0.191667  0.475000\n",
      "6064       0.766667      0.300000  0.466667\n",
      "3782       0.650000      0.183333  0.466667\n",
      "3034       0.583333      0.116667  0.466667\n",
      "1455       0.675000      0.216667  0.458333\n",
      "4364       0.533333      0.075000  0.458333\n",
      "4179       0.633333      0.183333  0.450000\n",
      "1658       0.600000      0.158333  0.441667\n",
      "6795       0.566667      0.125000  0.441667\n",
      "3976       0.691667      0.250000  0.441667\n"
     ]
    }
   ],
   "source": [
    "# Define file path and features\n",
    "filepath = \"data/OnlineShopEmailCampaign.csv\"\n",
    "features = [\"X1\", \"X2\", \"X3\", \"membership_level_0\", \"membership_level_1\", \"membership_level_2\", \"coupon\"]\n",
    "target = \"conversion\"\n",
    "\n",
    "# Load the data\n",
    "data = load_data(filepath)\n",
    "\n",
    "# Train the model\n",
    "model, X_valid = train_model(data, features, target)\n",
    "\n",
    "# Compute uplift\n",
    "uplift_result_df = compute_uplift(model, X_valid)\n",
    "\n",
    "# Retrieve and display the top 1% records with positive uplift\n",
    "top_records = get_top_uplift_records(uplift_result_df, top_percent=0.01)\n",
    "print(\"Top 1% records based on positive uplift:\")\n",
    "print(top_records)"
   ]
  }
 ],
 "metadata": {
  "kernelspec": {
   "display_name": "MISM6212",
   "language": "python",
   "name": "python3"
  },
  "language_info": {
   "codemirror_mode": {
    "name": "ipython",
    "version": 3
   },
   "file_extension": ".py",
   "mimetype": "text/x-python",
   "name": "python",
   "nbconvert_exporter": "python",
   "pygments_lexer": "ipython3",
   "version": "3.9.21"
  }
 },
 "nbformat": 4,
 "nbformat_minor": 5
}
