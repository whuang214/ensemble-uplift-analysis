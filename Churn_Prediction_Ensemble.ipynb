{
 "cells": [
  {
   "cell_type": "markdown",
   "id": "9025c52f",
   "metadata": {},
   "source": [
    "# Churn Prediction using Decision Tree, Bagging, and AdaBoost"
   ]
  },
  {
   "cell_type": "markdown",
   "id": "ea4249ca",
   "metadata": {},
   "source": [
    "This notebook reads the `CustomerData_Composite-5.csv` dataset, preprocesses the data, trains three classifiers (Decision Tree, Bagging, AdaBoost), and evaluates their performance."
   ]
  },
  {
   "cell_type": "markdown",
   "id": "4dfdb231",
   "metadata": {},
   "source": [
    "## Importing Required Libraries"
   ]
  },
  {
   "cell_type": "code",
   "execution_count": 1,
   "id": "bfb6006e",
   "metadata": {},
   "outputs": [],
   "source": [
    "import pandas as pd\n",
    "from sklearn.model_selection import train_test_split\n",
    "from sklearn.tree import DecisionTreeClassifier\n",
    "from sklearn.ensemble import BaggingClassifier, AdaBoostClassifier\n",
    "import dmba  # For classificationSummary\n",
    "\n",
    "import warnings\n",
    "warnings.filterwarnings(\"ignore\")"
   ]
  },
  {
   "cell_type": "markdown",
   "id": "503c49e0",
   "metadata": {},
   "source": [
    "## Load Dataset"
   ]
  },
  {
   "cell_type": "code",
   "execution_count": 2,
   "id": "872bf56f",
   "metadata": {},
   "outputs": [],
   "source": [
    "def load_data(file_path):\n",
    "    \"\"\"\n",
    "    Loads the dataset from a CSV file.\n",
    "\n",
    "    :param file_path: str - Path to the dataset CSV file.\n",
    "    :return: pd.DataFrame - Loaded dataset.\n",
    "    \"\"\"\n",
    "    df = pd.read_csv(file_path)\n",
    "    print(\"Dataset Loaded. Shape:\", df.shape)\n",
    "    print(df.head())\n",
    "    return df"
   ]
  },
  {
   "cell_type": "markdown",
   "id": "f16090d8",
   "metadata": {},
   "source": [
    "## Data Preprocessing"
   ]
  },
  {
   "cell_type": "code",
   "execution_count": 3,
   "id": "a9d19427",
   "metadata": {},
   "outputs": [],
   "source": [
    "def preprocess_data(df, selected_features, categorical_features, target_column=\"churn_value\"):\n",
    "    \"\"\"\n",
    "    Prepares the dataset by selecting relevant features and encoding categorical values.\n",
    "\n",
    "    :param df: pd.DataFrame - Raw dataset.\n",
    "    :param selected_features: list - Features to keep in the model.\n",
    "    :param categorical_features: list - Categorical features to encode.\n",
    "    :param target_column: str - Target column for classification.\n",
    "    :return: tuple (X, y) - Processed feature matrix and target array.\n",
    "    \"\"\"\n",
    "    df = df.copy()\n",
    "\n",
    "    # Convert categorical Yes/No values to 1/0\n",
    "    for col in categorical_features:\n",
    "        df[col] = df[col].map({\"Yes\": 1, \"No\": 0})\n",
    "\n",
    "    # Define features and target variable\n",
    "    X = df[selected_features]\n",
    "    y = df[target_column]\n",
    "\n",
    "    return X, y"
   ]
  },
  {
   "cell_type": "markdown",
   "id": "36c823f0",
   "metadata": {},
   "source": [
    "## Model Training and Evaluation"
   ]
  },
  {
   "cell_type": "code",
   "execution_count": 4,
   "id": "242da22a",
   "metadata": {},
   "outputs": [],
   "source": [
    "def train_and_evaluate(model, X_train, y_train, X_valid, y_valid, model_name):\n",
    "    \"\"\"\n",
    "    Trains a model and evaluates its performance.\n",
    "\n",
    "    :param model: sklearn model instance - Classifier to train.\n",
    "    :param X_train: pd.DataFrame - Training feature matrix.\n",
    "    :param y_train: pd.Series - Training labels.\n",
    "    :param X_valid: pd.DataFrame - Validation feature matrix.\n",
    "    :param y_valid: pd.Series - Validation labels.\n",
    "    :param model_name: str - Name of the model for output display.\n",
    "    \"\"\"\n",
    "    model.fit(X_train, y_train)\n",
    "    print(f\"\\n{model_name} Model\")\n",
    "    dmba.classificationSummary(y_valid, model.predict(X_valid))"
   ]
  },
  {
   "cell_type": "markdown",
   "id": "af7c7b69",
   "metadata": {},
   "source": [
    "## Running the Model Training Pipeline"
   ]
  },
  {
   "cell_type": "code",
   "execution_count": 5,
   "id": "4f72e039",
   "metadata": {},
   "outputs": [
    {
     "name": "stdout",
     "output_type": "stream",
     "text": [
      "Dataset Loaded. Shape: (7043, 53)\n",
      "  customer_id  gender  age under_30 senior_citizen partner dependents  \\\n",
      "0  0002-ORFBO  Female   37       No             No     Yes         No   \n",
      "1  0003-MKNFE    Male   46       No             No      No         No   \n",
      "2  0004-TLHLJ    Male   50       No             No      No         No   \n",
      "3  0011-IGKFF    Male   78       No            Yes     Yes         No   \n",
      "4  0013-EXCHZ  Female   75       No            Yes     Yes         No   \n",
      "\n",
      "   number_of_dependents married        country  ... referred_a_friend  \\\n",
      "0                     0     Yes  United States  ...               Yes   \n",
      "1                     0      No  United States  ...                No   \n",
      "2                     0      No  United States  ...                No   \n",
      "3                     0     Yes  United States  ...               Yes   \n",
      "4                     0     Yes  United States  ...               Yes   \n",
      "\n",
      "  number_of_referrals  satisfaction_score  cltv  customer_status  churn_score  \\\n",
      "0                   2                   3  2205           Stayed           65   \n",
      "1                   0                   5  5414           Stayed           66   \n",
      "2                   0                   1  4479          Churned           71   \n",
      "3                   1                   1  3714          Churned           91   \n",
      "4                   3                   1  3464          Churned           68   \n",
      "\n",
      "  churn_label churn_value   churn_category                   churn_reason  \n",
      "0          No           0   Not Applicable                            NaN  \n",
      "1          No           0   Not Applicable                            NaN  \n",
      "2         Yes           1       Competitor  Competitor had better devices  \n",
      "3         Yes           1  Dissatisfaction        Product dissatisfaction  \n",
      "4         Yes           1  Dissatisfaction            Network reliability  \n",
      "\n",
      "[5 rows x 53 columns]\n",
      "\n",
      "Decision Tree Model\n",
      "Confusion Matrix (Accuracy 0.9347)\n",
      "\n",
      "       Prediction\n",
      "Actual   0   1\n",
      "     0 970  47\n",
      "     1  45 347\n",
      "\n",
      "Ensemble Bagging Model\n",
      "Confusion Matrix (Accuracy 0.9439)\n",
      "\n",
      "       Prediction\n",
      "Actual   0   1\n",
      "     0 990  27\n",
      "     1  52 340\n",
      "\n",
      "Adaptive Boosting Model\n",
      "Confusion Matrix (Accuracy 0.9312)\n",
      "\n",
      "       Prediction\n",
      "Actual   0   1\n",
      "     0 968  49\n",
      "     1  48 344\n"
     ]
    }
   ],
   "source": [
    "# File path\n",
    "file_path = \"data/CustomerData_Composite-5.csv\"\n",
    "\n",
    "# Define selected features and categorical columns for encoding\n",
    "selected_features = [\n",
    "    \"age\", \"under_30\", \"senior_citizen\", \"partner\", \"dependents\",\n",
    "    \"number_of_dependents\", \"married\", \"phone_service\", \"internet_service\",\n",
    "    \"monthly_ charges\", \"tenure\", \"satisfaction_score\"\n",
    "]\n",
    "\n",
    "categorical_features = [\n",
    "    \"under_30\", \"senior_citizen\", \"partner\", \"dependents\", \"married\",\n",
    "    \"phone_service\", \"internet_service\"\n",
    "]\n",
    "\n",
    "# Load and preprocess data\n",
    "df = load_data(file_path)\n",
    "X, y = preprocess_data(df, selected_features, categorical_features)\n",
    "\n",
    "# Split dataset\n",
    "X_train, X_valid, y_train, y_valid = train_test_split(X, y, test_size=0.2, random_state=3)\n",
    "\n",
    "# Define models\n",
    "models = {\n",
    "    \"Decision Tree\": DecisionTreeClassifier(random_state=1),\n",
    "    \"Ensemble Bagging\": BaggingClassifier(\n",
    "        DecisionTreeClassifier(random_state=3), n_estimators=120, random_state=3\n",
    "    ),\n",
    "    \"Adaptive Boosting\": AdaBoostClassifier(\n",
    "        DecisionTreeClassifier(random_state=3), n_estimators=120, random_state=3\n",
    "    ),\n",
    "}\n",
    "\n",
    "# Train and evaluate each model\n",
    "for model_name, model in models.items():\n",
    "    train_and_evaluate(model, X_train, y_train, X_valid, y_valid, model_name)"
   ]
  }
 ],
 "metadata": {
  "kernelspec": {
   "display_name": "MISM6212",
   "language": "python",
   "name": "python3"
  },
  "language_info": {
   "codemirror_mode": {
    "name": "ipython",
    "version": 3
   },
   "file_extension": ".py",
   "mimetype": "text/x-python",
   "name": "python",
   "nbconvert_exporter": "python",
   "pygments_lexer": "ipython3",
   "version": "3.9.21"
  }
 },
 "nbformat": 4,
 "nbformat_minor": 5
}
